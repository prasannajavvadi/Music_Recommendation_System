{
 "cells": [
  {
   "cell_type": "code",
   "execution_count": 1,
   "id": "68b4edc4-ec70-4fa8-92b2-1f277768ae10",
   "metadata": {},
   "outputs": [],
   "source": [
    "import warnings\n",
    "warnings.filterwarnings(\"ignore\", category=FutureWarning)"
   ]
  },
  {
   "cell_type": "code",
   "execution_count": 2,
   "id": "3399a749-01f7-44db-b19a-89decec428b0",
   "metadata": {},
   "outputs": [],
   "source": [
    "import pandas as pd\n",
    "import numpy as np\n",
    "import matplotlib.pyplot as plt\n",
    "import seaborn as sns"
   ]
  },
  {
   "cell_type": "code",
   "execution_count": 3,
   "id": "8c9bfcd6-7081-4dd5-afea-aeeacf7e9aeb",
   "metadata": {},
   "outputs": [],
   "source": [
    "from scipy.sparse import csr_matrix"
   ]
  },
  {
   "cell_type": "code",
   "execution_count": 8,
   "id": "bec79b5a-6d40-4e59-ba43-6f52be69019f",
   "metadata": {},
   "outputs": [
    {
     "name": "stdout",
     "output_type": "stream",
     "text": [
      "C:\\Users\\yamun\n"
     ]
    }
   ],
   "source": [
    "import os\n",
    "print(os.getcwd())  # shows current working directory\n"
   ]
  },
  {
   "cell_type": "code",
   "execution_count": 9,
   "id": "2181735c-493b-409e-95ef-1efd7dd8da42",
   "metadata": {},
   "outputs": [],
   "source": [
    "import os\n",
    "os.chdir(r\"C:\\Users\\yamun\\Downloads\\music_recommender-master\\music_recommender-master\\collaborative_recommender_system\")\n"
   ]
  },
  {
   "cell_type": "code",
   "execution_count": 12,
   "id": "86c0f985-a4ed-43bf-b0a8-9f6a879c547d",
   "metadata": {},
   "outputs": [
    {
     "name": "stdout",
     "output_type": "stream",
     "text": [
      "Collecting fuzzywuzzy\n",
      "  Downloading fuzzywuzzy-0.18.0-py2.py3-none-any.whl (18 kB)\n",
      "Installing collected packages: fuzzywuzzy\n",
      "Successfully installed fuzzywuzzy-0.18.0\n"
     ]
    }
   ],
   "source": [
    "!pip install fuzzywuzzy\n"
   ]
  },
  {
   "cell_type": "code",
   "execution_count": 14,
   "id": "946cbd0d-1e95-4db4-a67b-d15a17eb2b03",
   "metadata": {},
   "outputs": [
    {
     "name": "stdout",
     "output_type": "stream",
     "text": [
      "Collecting python-Levenshtein\n",
      "  Downloading python_levenshtein-0.27.1-py3-none-any.whl (9.4 kB)\n",
      "Collecting Levenshtein==0.27.1 (from python-Levenshtein)\n",
      "  Downloading levenshtein-0.27.1-cp311-cp311-win_amd64.whl (100 kB)\n",
      "                                              0.0/100.4 kB ? eta -:--:--\n",
      "                                              0.0/100.4 kB ? eta -:--:--\n",
      "     ----                                     10.2/100.4 kB ? eta -:--:--\n",
      "     ----                                     10.2/100.4 kB ? eta -:--:--\n",
      "     -----------                           30.7/100.4 kB 262.6 kB/s eta 0:00:01\n",
      "     -----------                           30.7/100.4 kB 262.6 kB/s eta 0:00:01\n",
      "     ---------------                       41.0/100.4 kB 178.6 kB/s eta 0:00:01\n",
      "     ----------------------                61.4/100.4 kB 217.9 kB/s eta 0:00:01\n",
      "     ------------------------------        81.9/100.4 kB 254.2 kB/s eta 0:00:01\n",
      "     ------------------------------------ 100.4/100.4 kB 274.9 kB/s eta 0:00:00\n",
      "Collecting rapidfuzz<4.0.0,>=3.9.0 (from Levenshtein==0.27.1->python-Levenshtein)\n",
      "  Downloading rapidfuzz-3.13.0-cp311-cp311-win_amd64.whl (1.6 MB)\n",
      "                                              0.0/1.6 MB ? eta -:--:--\n",
      "                                              0.0/1.6 MB ? eta -:--:--\n",
      "                                              0.0/1.6 MB ? eta -:--:--\n",
      "     --                                       0.1/1.6 MB 871.5 kB/s eta 0:00:02\n",
      "     --                                       0.1/1.6 MB 653.6 kB/s eta 0:00:03\n",
      "     ---                                      0.2/1.6 MB 833.5 kB/s eta 0:00:02\n",
      "     ----                                     0.2/1.6 MB 752.9 kB/s eta 0:00:02\n",
      "     -----                                    0.2/1.6 MB 726.2 kB/s eta 0:00:02\n",
      "     ------                                   0.3/1.6 MB 817.9 kB/s eta 0:00:02\n",
      "     -------                                  0.3/1.6 MB 833.5 kB/s eta 0:00:02\n",
      "     ---------                                0.4/1.6 MB 880.6 kB/s eta 0:00:02\n",
      "     ---------                                0.4/1.6 MB 841.6 kB/s eta 0:00:02\n",
      "     ----------                               0.4/1.6 MB 774.0 kB/s eta 0:00:02\n",
      "     -----------                              0.5/1.6 MB 782.1 kB/s eta 0:00:02\n",
      "     -----------                              0.5/1.6 MB 772.2 kB/s eta 0:00:02\n",
      "     -------------                            0.5/1.6 MB 792.4 kB/s eta 0:00:02\n",
      "     --------------                           0.6/1.6 MB 783.3 kB/s eta 0:00:02\n",
      "     --------------                           0.6/1.6 MB 783.3 kB/s eta 0:00:02\n",
      "     --------------                           0.6/1.6 MB 732.3 kB/s eta 0:00:02\n",
      "     --------------                           0.6/1.6 MB 732.3 kB/s eta 0:00:02\n",
      "     --------------                           0.6/1.6 MB 732.3 kB/s eta 0:00:02\n",
      "     ---------------                          0.6/1.6 MB 678.1 kB/s eta 0:00:02\n",
      "     ---------------                          0.6/1.6 MB 678.1 kB/s eta 0:00:02\n",
      "     ---------------                          0.6/1.6 MB 604.7 kB/s eta 0:00:02\n",
      "     ----------------                         0.7/1.6 MB 606.9 kB/s eta 0:00:02\n",
      "     ----------------                         0.7/1.6 MB 616.9 kB/s eta 0:00:02\n",
      "     -----------------                        0.7/1.6 MB 601.3 kB/s eta 0:00:02\n",
      "     -----------------                        0.7/1.6 MB 586.1 kB/s eta 0:00:02\n",
      "     -----------------                        0.7/1.6 MB 586.1 kB/s eta 0:00:02\n",
      "     -----------------                        0.7/1.6 MB 586.1 kB/s eta 0:00:02\n",
      "     -----------------                        0.7/1.6 MB 545.9 kB/s eta 0:00:02\n",
      "     -----------------                        0.7/1.6 MB 545.9 kB/s eta 0:00:02\n",
      "     -----------------                        0.7/1.6 MB 545.9 kB/s eta 0:00:02\n",
      "     -----------------                        0.7/1.6 MB 545.9 kB/s eta 0:00:02\n",
      "     -----------------                        0.7/1.6 MB 545.9 kB/s eta 0:00:02\n",
      "     -----------------                        0.7/1.6 MB 545.9 kB/s eta 0:00:02\n",
      "     -----------------                        0.7/1.6 MB 545.9 kB/s eta 0:00:02\n",
      "     -----------------                        0.7/1.6 MB 545.9 kB/s eta 0:00:02\n",
      "     -----------------                        0.7/1.6 MB 545.9 kB/s eta 0:00:02\n",
      "     -----------------                        0.7/1.6 MB 545.9 kB/s eta 0:00:02\n",
      "     ---------------------                    0.9/1.6 MB 473.0 kB/s eta 0:00:02\n",
      "     ---------------------                    0.9/1.6 MB 473.0 kB/s eta 0:00:02\n",
      "     ---------------------                    0.9/1.6 MB 473.0 kB/s eta 0:00:02\n",
      "     ---------------------                    0.9/1.6 MB 473.0 kB/s eta 0:00:02\n",
      "     ---------------------                    0.9/1.6 MB 473.0 kB/s eta 0:00:02\n",
      "     ---------------------                    0.9/1.6 MB 473.0 kB/s eta 0:00:02\n",
      "     ---------------------                    0.9/1.6 MB 473.0 kB/s eta 0:00:02\n",
      "     ---------------------                    0.9/1.6 MB 473.0 kB/s eta 0:00:02\n",
      "     ---------------------                    0.9/1.6 MB 473.0 kB/s eta 0:00:02\n",
      "     -----------------------                  0.9/1.6 MB 422.8 kB/s eta 0:00:02\n",
      "     -----------------------                  0.9/1.6 MB 422.8 kB/s eta 0:00:02\n",
      "     -----------------------                  0.9/1.6 MB 422.8 kB/s eta 0:00:02\n",
      "     -----------------------                  0.9/1.6 MB 422.8 kB/s eta 0:00:02\n",
      "     -----------------------                  0.9/1.6 MB 422.8 kB/s eta 0:00:02\n",
      "     -------------------------                1.0/1.6 MB 415.8 kB/s eta 0:00:02\n",
      "     -------------------------                1.0/1.6 MB 421.4 kB/s eta 0:00:02\n",
      "     --------------------------               1.1/1.6 MB 419.2 kB/s eta 0:00:02\n",
      "     --------------------------               1.1/1.6 MB 420.9 kB/s eta 0:00:02\n",
      "     ---------------------------              1.1/1.6 MB 417.4 kB/s eta 0:00:02\n",
      "     ---------------------------              1.1/1.6 MB 417.4 kB/s eta 0:00:02\n",
      "     ---------------------------              1.1/1.6 MB 412.8 kB/s eta 0:00:02\n",
      "     ---------------------------              1.1/1.6 MB 412.8 kB/s eta 0:00:02\n",
      "     ----------------------------             1.1/1.6 MB 408.6 kB/s eta 0:00:02\n",
      "     ----------------------------             1.2/1.6 MB 401.0 kB/s eta 0:00:02\n",
      "     ----------------------------             1.2/1.6 MB 401.0 kB/s eta 0:00:02\n",
      "     ----------------------------             1.2/1.6 MB 397.3 kB/s eta 0:00:02\n",
      "     ----------------------------             1.2/1.6 MB 397.3 kB/s eta 0:00:02\n",
      "     ----------------------------             1.2/1.6 MB 397.3 kB/s eta 0:00:02\n",
      "     ----------------------------             1.2/1.6 MB 397.3 kB/s eta 0:00:02\n",
      "     ----------------------------             1.2/1.6 MB 397.3 kB/s eta 0:00:02\n",
      "     ----------------------------             1.2/1.6 MB 397.3 kB/s eta 0:00:02\n",
      "     ----------------------------             1.2/1.6 MB 397.3 kB/s eta 0:00:02\n",
      "     ----------------------------             1.2/1.6 MB 397.3 kB/s eta 0:00:02\n",
      "     ------------------------------           1.3/1.6 MB 373.6 kB/s eta 0:00:01\n",
      "     ------------------------------           1.3/1.6 MB 373.6 kB/s eta 0:00:01\n",
      "     ------------------------------           1.3/1.6 MB 373.6 kB/s eta 0:00:01\n",
      "     ------------------------------           1.3/1.6 MB 373.6 kB/s eta 0:00:01\n",
      "     ------------------------------           1.3/1.6 MB 373.6 kB/s eta 0:00:01\n",
      "     ------------------------------           1.3/1.6 MB 373.6 kB/s eta 0:00:01\n",
      "     ------------------------------           1.3/1.6 MB 373.6 kB/s eta 0:00:01\n",
      "     ------------------------------           1.3/1.6 MB 373.6 kB/s eta 0:00:01\n",
      "     ------------------------------           1.3/1.6 MB 373.6 kB/s eta 0:00:01\n",
      "     --------------------------------         1.3/1.6 MB 348.2 kB/s eta 0:00:01\n",
      "     --------------------------------         1.3/1.6 MB 345.2 kB/s eta 0:00:01\n",
      "     --------------------------------         1.3/1.6 MB 345.2 kB/s eta 0:00:01\n",
      "     --------------------------------         1.3/1.6 MB 343.5 kB/s eta 0:00:01\n",
      "     --------------------------------         1.3/1.6 MB 343.5 kB/s eta 0:00:01\n",
      "     ---------------------------------        1.4/1.6 MB 341.8 kB/s eta 0:00:01\n",
      "     ---------------------------------        1.4/1.6 MB 341.8 kB/s eta 0:00:01\n",
      "     ---------------------------------        1.4/1.6 MB 341.8 kB/s eta 0:00:01\n",
      "     ---------------------------------        1.4/1.6 MB 341.8 kB/s eta 0:00:01\n",
      "     ----------------------------------       1.4/1.6 MB 332.5 kB/s eta 0:00:01\n",
      "     ----------------------------------       1.4/1.6 MB 332.5 kB/s eta 0:00:01\n",
      "     ----------------------------------       1.4/1.6 MB 333.7 kB/s eta 0:00:01\n",
      "     ----------------------------------       1.4/1.6 MB 333.7 kB/s eta 0:00:01\n",
      "     ----------------------------------       1.4/1.6 MB 333.7 kB/s eta 0:00:01\n",
      "     ----------------------------------       1.4/1.6 MB 333.7 kB/s eta 0:00:01\n",
      "     ----------------------------------       1.4/1.6 MB 333.7 kB/s eta 0:00:01\n",
      "     -----------------------------------      1.5/1.6 MB 321.9 kB/s eta 0:00:01\n",
      "     -----------------------------------      1.5/1.6 MB 321.9 kB/s eta 0:00:01\n",
      "     ------------------------------------     1.5/1.6 MB 320.9 kB/s eta 0:00:01\n",
      "     ------------------------------------     1.5/1.6 MB 320.9 kB/s eta 0:00:01\n",
      "     ------------------------------------     1.5/1.6 MB 321.0 kB/s eta 0:00:01\n",
      "     ------------------------------------     1.5/1.6 MB 321.0 kB/s eta 0:00:01\n",
      "     -------------------------------------    1.5/1.6 MB 315.8 kB/s eta 0:00:01\n",
      "     -------------------------------------    1.5/1.6 MB 318.1 kB/s eta 0:00:01\n",
      "     -------------------------------------    1.5/1.6 MB 318.1 kB/s eta 0:00:01\n",
      "     -------------------------------------    1.5/1.6 MB 315.1 kB/s eta 0:00:01\n",
      "     -------------------------------------    1.5/1.6 MB 315.1 kB/s eta 0:00:01\n",
      "     -------------------------------------    1.5/1.6 MB 315.1 kB/s eta 0:00:01\n",
      "     --------------------------------------   1.6/1.6 MB 309.3 kB/s eta 0:00:01\n",
      "     --------------------------------------   1.6/1.6 MB 311.5 kB/s eta 0:00:01\n",
      "     --------------------------------------   1.6/1.6 MB 311.5 kB/s eta 0:00:01\n",
      "     --------------------------------------   1.6/1.6 MB 311.5 kB/s eta 0:00:01\n",
      "     --------------------------------------   1.6/1.6 MB 311.5 kB/s eta 0:00:01\n",
      "     --------------------------------------   1.6/1.6 MB 311.5 kB/s eta 0:00:01\n",
      "     --------------------------------------   1.6/1.6 MB 311.5 kB/s eta 0:00:01\n",
      "     --------------------------------------   1.6/1.6 MB 311.5 kB/s eta 0:00:01\n",
      "     --------------------------------------   1.6/1.6 MB 311.5 kB/s eta 0:00:01\n",
      "     ---------------------------------------  1.6/1.6 MB 295.0 kB/s eta 0:00:01\n",
      "     ---------------------------------------- 1.6/1.6 MB 293.6 kB/s eta 0:00:00\n",
      "Installing collected packages: rapidfuzz, Levenshtein, python-Levenshtein\n",
      "Successfully installed Levenshtein-0.27.1 python-Levenshtein-0.27.1 rapidfuzz-3.13.0\n"
     ]
    }
   ],
   "source": [
    "!pip install python-Levenshtein\n"
   ]
  },
  {
   "cell_type": "code",
   "execution_count": 15,
   "id": "05b2f407-9c43-42d2-a90b-99fd1229714a",
   "metadata": {},
   "outputs": [],
   "source": [
    "from recommeders.knn_recommender import Recommender\n"
   ]
  },
  {
   "cell_type": "code",
   "execution_count": 17,
   "id": "bc9dbc64-3bd4-42de-a74d-70fc046330b6",
   "metadata": {},
   "outputs": [
    {
     "name": "stdout",
     "output_type": "stream",
     "text": [
      "  user_id  song_id  listen_count     title artist_name\n",
      "0  user_1  song_23            17  Title 23   Artist 13\n",
      "1  user_1  song_26             4  Title 26    Artist 3\n",
      "2  user_1  song_46            16  Title 46   Artist 12\n",
      "3  user_1  song_30             3  Title 30    Artist 3\n",
      "4  user_1  song_43            20  Title 43   Artist 13\n"
     ]
    }
   ],
   "source": [
    "import pandas as pd\n",
    "import numpy as np\n",
    "\n",
    "# Settings\n",
    "num_users = 100\n",
    "num_songs = 50\n",
    "\n",
    "# Generate user IDs and song IDs\n",
    "user_ids = [f'user_{i}' for i in range(1, num_users + 1)]\n",
    "song_ids = [f'song_{i}' for i in range(1, num_songs + 1)]\n",
    "\n",
    "# Generate listen counts randomly (between 1 and 20)\n",
    "data = []\n",
    "for user in user_ids:\n",
    "    # Each user listens to a random number of songs\n",
    "    listened_songs = np.random.choice(song_ids, size=np.random.randint(5, 15), replace=False)\n",
    "    for song in listened_songs:\n",
    "        listen_count = np.random.randint(1, 21)\n",
    "        data.append({'user_id': user, 'song_id': song, 'listen_count': listen_count})\n",
    "\n",
    "song_info = pd.DataFrame(data)\n",
    "\n",
    "# Generate song metadata\n",
    "song_actual = pd.DataFrame({\n",
    "    'song_id': song_ids,\n",
    "    'title': [f'Title {i}' for i in range(1, num_songs + 1)],\n",
    "    'artist_name': [f'Artist {np.random.randint(1, 20)}' for _ in range(num_songs)]\n",
    "})\n",
    "\n",
    "# Merge to get full dataset\n",
    "songs = pd.merge(song_info, song_actual, on='song_id', how='left')\n",
    "\n",
    "print(songs.head())\n"
   ]
  },
  {
   "cell_type": "code",
   "execution_count": 18,
   "id": "a5354948-40b0-43a1-9f6e-33467183a93e",
   "metadata": {},
   "outputs": [
    {
     "name": "stdout",
     "output_type": "stream",
     "text": [
      "User-song matrix shape: (50, 100)\n",
      "Sample decode_id_song entries: [('Title 1', 0), ('Title 10', 1), ('Title 11', 2), ('Title 12', 3), ('Title 13', 4)]\n"
     ]
    }
   ],
   "source": [
    "import pandas as pd\n",
    "\n",
    "# 1. Create user-song matrix (rows = songs, columns = users, values = listen_count)\n",
    "user_song_matrix = songs.pivot_table(index='song_id', columns='user_id', values='listen_count', fill_value=0)\n",
    "\n",
    "# 2. Create decode_id_song dictionary (mapping song title -> song index in matrix)\n",
    "# We need to map song titles to the row indices of user_song_matrix\n",
    "\n",
    "# First, create a mapping from song_id to title\n",
    "song_id_to_title = songs.drop_duplicates('song_id').set_index('song_id')['title'].to_dict()\n",
    "\n",
    "# Now map the user_song_matrix index (song_id) to song titles, and then create a dict title -> row index\n",
    "decode_id_song = {song_id_to_title[song_id]: idx for idx, song_id in enumerate(user_song_matrix.index)}\n",
    "\n",
    "print(\"User-song matrix shape:\", user_song_matrix.shape)\n",
    "print(\"Sample decode_id_song entries:\", list(decode_id_song.items())[:5])\n"
   ]
  },
  {
   "cell_type": "code",
   "execution_count": 19,
   "id": "ca710afb-2dae-43b4-ad1e-47bbaee2a784",
   "metadata": {},
   "outputs": [
    {
     "data": {
      "text/html": [
       "<div>\n",
       "<style scoped>\n",
       "    .dataframe tbody tr th:only-of-type {\n",
       "        vertical-align: middle;\n",
       "    }\n",
       "\n",
       "    .dataframe tbody tr th {\n",
       "        vertical-align: top;\n",
       "    }\n",
       "\n",
       "    .dataframe thead th {\n",
       "        text-align: right;\n",
       "    }\n",
       "</style>\n",
       "<table border=\"1\" class=\"dataframe\">\n",
       "  <thead>\n",
       "    <tr style=\"text-align: right;\">\n",
       "      <th></th>\n",
       "      <th>user_id</th>\n",
       "      <th>song_id</th>\n",
       "      <th>listen_count</th>\n",
       "      <th>title</th>\n",
       "      <th>artist_name</th>\n",
       "    </tr>\n",
       "  </thead>\n",
       "  <tbody>\n",
       "    <tr>\n",
       "      <th>0</th>\n",
       "      <td>user_1</td>\n",
       "      <td>song_23</td>\n",
       "      <td>17</td>\n",
       "      <td>Title 23</td>\n",
       "      <td>Artist 13</td>\n",
       "    </tr>\n",
       "    <tr>\n",
       "      <th>1</th>\n",
       "      <td>user_1</td>\n",
       "      <td>song_26</td>\n",
       "      <td>4</td>\n",
       "      <td>Title 26</td>\n",
       "      <td>Artist 3</td>\n",
       "    </tr>\n",
       "    <tr>\n",
       "      <th>2</th>\n",
       "      <td>user_1</td>\n",
       "      <td>song_46</td>\n",
       "      <td>16</td>\n",
       "      <td>Title 46</td>\n",
       "      <td>Artist 12</td>\n",
       "    </tr>\n",
       "    <tr>\n",
       "      <th>3</th>\n",
       "      <td>user_1</td>\n",
       "      <td>song_30</td>\n",
       "      <td>3</td>\n",
       "      <td>Title 30</td>\n",
       "      <td>Artist 3</td>\n",
       "    </tr>\n",
       "    <tr>\n",
       "      <th>4</th>\n",
       "      <td>user_1</td>\n",
       "      <td>song_43</td>\n",
       "      <td>20</td>\n",
       "      <td>Title 43</td>\n",
       "      <td>Artist 13</td>\n",
       "    </tr>\n",
       "  </tbody>\n",
       "</table>\n",
       "</div>"
      ],
      "text/plain": [
       "  user_id  song_id  listen_count     title artist_name\n",
       "0  user_1  song_23            17  Title 23   Artist 13\n",
       "1  user_1  song_26             4  Title 26    Artist 3\n",
       "2  user_1  song_46            16  Title 46   Artist 12\n",
       "3  user_1  song_30             3  Title 30    Artist 3\n",
       "4  user_1  song_43            20  Title 43   Artist 13"
      ]
     },
     "execution_count": 19,
     "metadata": {},
     "output_type": "execute_result"
    }
   ],
   "source": [
    "songs.head()"
   ]
  },
  {
   "cell_type": "code",
   "execution_count": 20,
   "id": "57021b2b-d310-45ce-9b94-7135023017ec",
   "metadata": {},
   "outputs": [],
   "source": [
    "songs.to_csv('songs.csv', index=False)"
   ]
  },
  {
   "cell_type": "code",
   "execution_count": 21,
   "id": "1a4c1baa-abef-487c-950d-8ff44295b378",
   "metadata": {},
   "outputs": [],
   "source": [
    "df_songs = pd.read_csv('songs.csv')"
   ]
  },
  {
   "cell_type": "code",
   "execution_count": 22,
   "id": "f15ae8ca-d8ab-4c56-9f3b-094dd92a9b1c",
   "metadata": {},
   "outputs": [
    {
     "data": {
      "text/html": [
       "<div>\n",
       "<style scoped>\n",
       "    .dataframe tbody tr th:only-of-type {\n",
       "        vertical-align: middle;\n",
       "    }\n",
       "\n",
       "    .dataframe tbody tr th {\n",
       "        vertical-align: top;\n",
       "    }\n",
       "\n",
       "    .dataframe thead th {\n",
       "        text-align: right;\n",
       "    }\n",
       "</style>\n",
       "<table border=\"1\" class=\"dataframe\">\n",
       "  <thead>\n",
       "    <tr style=\"text-align: right;\">\n",
       "      <th></th>\n",
       "      <th>user_id</th>\n",
       "      <th>song_id</th>\n",
       "      <th>listen_count</th>\n",
       "      <th>title</th>\n",
       "      <th>artist_name</th>\n",
       "    </tr>\n",
       "  </thead>\n",
       "  <tbody>\n",
       "    <tr>\n",
       "      <th>0</th>\n",
       "      <td>user_1</td>\n",
       "      <td>song_23</td>\n",
       "      <td>17</td>\n",
       "      <td>Title 23</td>\n",
       "      <td>Artist 13</td>\n",
       "    </tr>\n",
       "    <tr>\n",
       "      <th>1</th>\n",
       "      <td>user_1</td>\n",
       "      <td>song_26</td>\n",
       "      <td>4</td>\n",
       "      <td>Title 26</td>\n",
       "      <td>Artist 3</td>\n",
       "    </tr>\n",
       "    <tr>\n",
       "      <th>2</th>\n",
       "      <td>user_1</td>\n",
       "      <td>song_46</td>\n",
       "      <td>16</td>\n",
       "      <td>Title 46</td>\n",
       "      <td>Artist 12</td>\n",
       "    </tr>\n",
       "    <tr>\n",
       "      <th>3</th>\n",
       "      <td>user_1</td>\n",
       "      <td>song_30</td>\n",
       "      <td>3</td>\n",
       "      <td>Title 30</td>\n",
       "      <td>Artist 3</td>\n",
       "    </tr>\n",
       "    <tr>\n",
       "      <th>4</th>\n",
       "      <td>user_1</td>\n",
       "      <td>song_43</td>\n",
       "      <td>20</td>\n",
       "      <td>Title 43</td>\n",
       "      <td>Artist 13</td>\n",
       "    </tr>\n",
       "  </tbody>\n",
       "</table>\n",
       "</div>"
      ],
      "text/plain": [
       "  user_id  song_id  listen_count     title artist_name\n",
       "0  user_1  song_23            17  Title 23   Artist 13\n",
       "1  user_1  song_26             4  Title 26    Artist 3\n",
       "2  user_1  song_46            16  Title 46   Artist 12\n",
       "3  user_1  song_30             3  Title 30    Artist 3\n",
       "4  user_1  song_43            20  Title 43   Artist 13"
      ]
     },
     "execution_count": 22,
     "metadata": {},
     "output_type": "execute_result"
    }
   ],
   "source": [
    "df_songs.head()"
   ]
  },
  {
   "cell_type": "code",
   "execution_count": 23,
   "id": "c46fde3b-f0de-4213-b5ca-164e6f91d8af",
   "metadata": {},
   "outputs": [
    {
     "name": "stdout",
     "output_type": "stream",
     "text": [
      "There are 912 observations in the dataset\n"
     ]
    }
   ],
   "source": [
    "#Get total observations\n",
    "print(f\"There are {df_songs.shape[0]} observations in the dataset\")"
   ]
  },
  {
   "cell_type": "code",
   "execution_count": 24,
   "id": "94344249-91c0-4c32-99d0-4d3afa0bc23c",
   "metadata": {},
   "outputs": [
    {
     "data": {
      "text/plain": [
       "user_id         0\n",
       "song_id         0\n",
       "listen_count    0\n",
       "title           0\n",
       "artist_name     0\n",
       "dtype: int64"
      ]
     },
     "execution_count": 24,
     "metadata": {},
     "output_type": "execute_result"
    }
   ],
   "source": [
    "df_songs.isnull().sum()"
   ]
  },
  {
   "cell_type": "code",
   "execution_count": 25,
   "id": "79943658-3b44-4d17-a27b-d18109ef08a8",
   "metadata": {},
   "outputs": [
    {
     "data": {
      "text/plain": [
       "user_id         object\n",
       "song_id         object\n",
       "listen_count     int64\n",
       "title           object\n",
       "artist_name     object\n",
       "dtype: object"
      ]
     },
     "execution_count": 25,
     "metadata": {},
     "output_type": "execute_result"
    }
   ],
   "source": [
    "df_songs.dtypes"
   ]
  },
  {
   "cell_type": "code",
   "execution_count": 26,
   "id": "225806d2-790e-4df6-9783-3b8b927b3fc7",
   "metadata": {},
   "outputs": [
    {
     "name": "stdout",
     "output_type": "stream",
     "text": [
      "There are 50 unique songs in the dataset\n"
     ]
    }
   ],
   "source": [
    "#Unique songs\n",
    "unique_songs = df_songs['title'].unique().shape[0]\n",
    "print(f\"There are {unique_songs} unique songs in the dataset\")"
   ]
  },
  {
   "cell_type": "code",
   "execution_count": 27,
   "id": "f990968e-5ffe-48c8-b7fc-62ec9f7a8387",
   "metadata": {},
   "outputs": [
    {
     "name": "stdout",
     "output_type": "stream",
     "text": [
      "There are 19 unique artists in the dataset\n"
     ]
    }
   ],
   "source": [
    "#Unique artists\n",
    "unique_artists = df_songs['artist_name'].unique().shape[0]\n",
    "print(f\"There are {unique_artists} unique artists in the dataset\")"
   ]
  },
  {
   "cell_type": "code",
   "execution_count": 28,
   "id": "e2b04624-f53b-44bc-8fcb-891d517bb849",
   "metadata": {},
   "outputs": [
    {
     "name": "stdout",
     "output_type": "stream",
     "text": [
      "There are 100 unique users in the dataset\n"
     ]
    }
   ],
   "source": [
    "#Unique users\n",
    "unique_users = df_songs['user_id'].unique().shape[0]\n",
    "print(f\"There are {unique_users} unique users in the dataset\")"
   ]
  },
  {
   "cell_type": "code",
   "execution_count": 29,
   "id": "683d3359-46d7-4ec6-af3e-8603be856816",
   "metadata": {},
   "outputs": [],
   "source": [
    "#count how many rows we have by song, we show only the ten more popular songs \n",
    "ten_pop_songs = df_songs.groupby('title')['listen_count'].count().reset_index().sort_values(['listen_count', 'title'], ascending = [0,1])\n",
    "ten_pop_songs['percentage']  = round(ten_pop_songs['listen_count'].div(ten_pop_songs['listen_count'].sum())*100, 2)"
   ]
  },
  {
   "cell_type": "code",
   "execution_count": 30,
   "id": "0fdd51bd-1528-4c3a-90cd-7dc9a8050f1b",
   "metadata": {},
   "outputs": [
    {
     "data": {
      "text/html": [
       "<div>\n",
       "<style scoped>\n",
       "    .dataframe tbody tr th:only-of-type {\n",
       "        vertical-align: middle;\n",
       "    }\n",
       "\n",
       "    .dataframe tbody tr th {\n",
       "        vertical-align: top;\n",
       "    }\n",
       "\n",
       "    .dataframe thead th {\n",
       "        text-align: right;\n",
       "    }\n",
       "</style>\n",
       "<table border=\"1\" class=\"dataframe\">\n",
       "  <thead>\n",
       "    <tr style=\"text-align: right;\">\n",
       "      <th></th>\n",
       "      <th>title</th>\n",
       "      <th>listen_count</th>\n",
       "      <th>percentage</th>\n",
       "    </tr>\n",
       "  </thead>\n",
       "  <tbody>\n",
       "    <tr>\n",
       "      <th>14</th>\n",
       "      <td>Title 22</td>\n",
       "      <td>27</td>\n",
       "      <td>2.96</td>\n",
       "    </tr>\n",
       "    <tr>\n",
       "      <th>34</th>\n",
       "      <td>Title 40</td>\n",
       "      <td>27</td>\n",
       "      <td>2.96</td>\n",
       "    </tr>\n",
       "    <tr>\n",
       "      <th>44</th>\n",
       "      <td>Title 5</td>\n",
       "      <td>27</td>\n",
       "      <td>2.96</td>\n",
       "    </tr>\n",
       "    <tr>\n",
       "      <th>25</th>\n",
       "      <td>Title 32</td>\n",
       "      <td>24</td>\n",
       "      <td>2.63</td>\n",
       "    </tr>\n",
       "    <tr>\n",
       "      <th>27</th>\n",
       "      <td>Title 34</td>\n",
       "      <td>24</td>\n",
       "      <td>2.63</td>\n",
       "    </tr>\n",
       "    <tr>\n",
       "      <th>38</th>\n",
       "      <td>Title 44</td>\n",
       "      <td>24</td>\n",
       "      <td>2.63</td>\n",
       "    </tr>\n",
       "    <tr>\n",
       "      <th>30</th>\n",
       "      <td>Title 37</td>\n",
       "      <td>23</td>\n",
       "      <td>2.52</td>\n",
       "    </tr>\n",
       "    <tr>\n",
       "      <th>18</th>\n",
       "      <td>Title 26</td>\n",
       "      <td>22</td>\n",
       "      <td>2.41</td>\n",
       "    </tr>\n",
       "    <tr>\n",
       "      <th>21</th>\n",
       "      <td>Title 29</td>\n",
       "      <td>22</td>\n",
       "      <td>2.41</td>\n",
       "    </tr>\n",
       "    <tr>\n",
       "      <th>33</th>\n",
       "      <td>Title 4</td>\n",
       "      <td>22</td>\n",
       "      <td>2.41</td>\n",
       "    </tr>\n",
       "  </tbody>\n",
       "</table>\n",
       "</div>"
      ],
      "text/plain": [
       "       title  listen_count  percentage\n",
       "14  Title 22            27        2.96\n",
       "34  Title 40            27        2.96\n",
       "44   Title 5            27        2.96\n",
       "25  Title 32            24        2.63\n",
       "27  Title 34            24        2.63\n",
       "38  Title 44            24        2.63\n",
       "30  Title 37            23        2.52\n",
       "18  Title 26            22        2.41\n",
       "21  Title 29            22        2.41\n",
       "33   Title 4            22        2.41"
      ]
     },
     "execution_count": 30,
     "metadata": {},
     "output_type": "execute_result"
    }
   ],
   "source": [
    "ten_pop_songs = ten_pop_songs[:10]\n",
    "ten_pop_songs"
   ]
  },
  {
   "cell_type": "code",
   "execution_count": 31,
   "id": "15917a3c-b902-46bf-b381-dd43d23b28cf",
   "metadata": {},
   "outputs": [],
   "source": [
    "labels = ten_pop_songs['title'].tolist()\n",
    "counts = ten_pop_songs['listen_count'].tolist()"
   ]
  },
  {
   "cell_type": "code",
   "execution_count": 32,
   "id": "d01b3d5a-1bd5-4c82-b40d-3dceea52d82b",
   "metadata": {},
   "outputs": [
    {
     "data": {
      "image/png": "[encoded data removed]",
      "text/plain": [
       "<Figure size 640x480 with 1 Axes>"
      ]
     },
     "metadata": {},
     "output_type": "display_data"
    }
   ],
   "source": [
    "plt.figure()\n",
    "sns.barplot(x=counts, y=labels, palette='Set3')\n",
    "sns.despine(left=True, bottom=True)"
   ]
  },
  {
   "cell_type": "code",
   "execution_count": 33,
   "id": "e1336fe1-a7f3-4b72-aaef-cc282a5dc48c",
   "metadata": {},
   "outputs": [],
   "source": [
    "#count how many rows we have by artist name, we show only the ten more popular artist \n",
    "ten_pop_artists  = df_songs.groupby(['artist_name'])['listen_count'].count().reset_index().sort_values(['listen_count', 'artist_name'], \n",
    "                                                                                                ascending = [0,1])"
   ]
  },
  {
   "cell_type": "code",
   "execution_count": 34,
   "id": "e0f0b58c-8e21-46db-b773-47d257fe535a",
   "metadata": {},
   "outputs": [
    {
     "data": {
      "text/html": [
       "<div>\n",
       "<style scoped>\n",
       "    .dataframe tbody tr th:only-of-type {\n",
       "        vertical-align: middle;\n",
       "    }\n",
       "\n",
       "    .dataframe tbody tr th {\n",
       "        vertical-align: top;\n",
       "    }\n",
       "\n",
       "    .dataframe thead th {\n",
       "        text-align: right;\n",
       "    }\n",
       "</style>\n",
       "<table border=\"1\" class=\"dataframe\">\n",
       "  <thead>\n",
       "    <tr style=\"text-align: right;\">\n",
       "      <th></th>\n",
       "      <th>artist_name</th>\n",
       "      <th>listen_count</th>\n",
       "    </tr>\n",
       "  </thead>\n",
       "  <tbody>\n",
       "    <tr>\n",
       "      <th>4</th>\n",
       "      <td>Artist 13</td>\n",
       "      <td>105</td>\n",
       "    </tr>\n",
       "    <tr>\n",
       "      <th>12</th>\n",
       "      <td>Artist 3</td>\n",
       "      <td>92</td>\n",
       "    </tr>\n",
       "    <tr>\n",
       "      <th>18</th>\n",
       "      <td>Artist 9</td>\n",
       "      <td>91</td>\n",
       "    </tr>\n",
       "    <tr>\n",
       "      <th>2</th>\n",
       "      <td>Artist 11</td>\n",
       "      <td>74</td>\n",
       "    </tr>\n",
       "    <tr>\n",
       "      <th>15</th>\n",
       "      <td>Artist 6</td>\n",
       "      <td>64</td>\n",
       "    </tr>\n",
       "    <tr>\n",
       "      <th>17</th>\n",
       "      <td>Artist 8</td>\n",
       "      <td>59</td>\n",
       "    </tr>\n",
       "    <tr>\n",
       "      <th>9</th>\n",
       "      <td>Artist 18</td>\n",
       "      <td>54</td>\n",
       "    </tr>\n",
       "    <tr>\n",
       "      <th>16</th>\n",
       "      <td>Artist 7</td>\n",
       "      <td>45</td>\n",
       "    </tr>\n",
       "    <tr>\n",
       "      <th>5</th>\n",
       "      <td>Artist 14</td>\n",
       "      <td>41</td>\n",
       "    </tr>\n",
       "    <tr>\n",
       "      <th>7</th>\n",
       "      <td>Artist 16</td>\n",
       "      <td>40</td>\n",
       "    </tr>\n",
       "  </tbody>\n",
       "</table>\n",
       "</div>"
      ],
      "text/plain": [
       "   artist_name  listen_count\n",
       "4    Artist 13           105\n",
       "12    Artist 3            92\n",
       "18    Artist 9            91\n",
       "2    Artist 11            74\n",
       "15    Artist 6            64\n",
       "17    Artist 8            59\n",
       "9    Artist 18            54\n",
       "16    Artist 7            45\n",
       "5    Artist 14            41\n",
       "7    Artist 16            40"
      ]
     },
     "execution_count": 34,
     "metadata": {},
     "output_type": "execute_result"
    }
   ],
   "source": [
    "ten_pop_artists = ten_pop_artists[:10]\n",
    "ten_pop_artists"
   ]
  },
  {
   "cell_type": "code",
   "execution_count": 35,
   "id": "c56b4ab0-e1a2-42c3-a109-af45655fd8d1",
   "metadata": {},
   "outputs": [
    {
     "data": {
      "image/png": "[encoded data removed]",
      "text/plain": [
       "<Figure size 640x480 with 1 Axes>"
      ]
     },
     "metadata": {},
     "output_type": "display_data"
    }
   ],
   "source": [
    "plt.figure()\n",
    "labels = ten_pop_artists['artist_name'].tolist()\n",
    "counts = ten_pop_artists['listen_count'].tolist()\n",
    "sns.barplot(x=counts, y=labels, palette='Set2')\n",
    "sns.despine(left=True, bottom=True)"
   ]
  },
  {
   "cell_type": "code",
   "execution_count": 36,
   "id": "88cb9dd4-c632-4f01-bb32-7b8696b0f633",
   "metadata": {},
   "outputs": [],
   "source": [
    "listen_counts = pd.DataFrame(df_songs.groupby('listen_count').size(), columns=['count'])"
   ]
  },
  {
   "cell_type": "code",
   "execution_count": 37,
   "id": "b1677173-a8ff-4215-afc3-b075b47a6198",
   "metadata": {},
   "outputs": [
    {
     "name": "stdout",
     "output_type": "stream",
     "text": [
      "The maximum time the same user listened to the same songs was: 20\n"
     ]
    }
   ],
   "source": [
    "print(f\"The maximum time the same user listened to the same songs was: {listen_counts.reset_index(drop=False)['listen_count'].iloc[-1]}\")"
   ]
  },
  {
   "cell_type": "code",
   "execution_count": 38,
   "id": "cd7bceea-02c1-40f1-a974-96637dcd8c31",
   "metadata": {},
   "outputs": [
    {
     "name": "stdout",
     "output_type": "stream",
     "text": [
      "On average, a user listen to the same song 10.524122807017545 times\n"
     ]
    }
   ],
   "source": [
    "print(f\"On average, a user listen to the same song {df_songs['listen_count'].mean()} times\")"
   ]
  },
  {
   "cell_type": "code",
   "execution_count": 39,
   "id": "61c28937-d4fa-4713-b456-66b9b9d67cae",
   "metadata": {},
   "outputs": [
    {
     "data": {
      "image/png": "[encoded data removed]",
      "text/plain": [
       "<Figure size 2000x500 with 1 Axes>"
      ]
     },
     "metadata": {},
     "output_type": "display_data"
    }
   ],
   "source": [
    "plt.figure(figsize=(20, 5))\n",
    "sns.boxplot(x='listen_count', data=df_songs)\n",
    "sns.despine()"
   ]
  },
  {
   "cell_type": "code",
   "execution_count": 40,
   "id": "555af7ba-fe60-456c-80f2-ecaeb6676ceb",
   "metadata": {},
   "outputs": [],
   "source": [
    "listen_counts_temp = listen_counts[listen_counts['count'] > 50].reset_index(drop=False)"
   ]
  },
  {
   "cell_type": "code",
   "execution_count": 41,
   "id": "2efaa25e-aae2-46b0-88fe-1ccf1f3c89b4",
   "metadata": {},
   "outputs": [
    {
     "data": {
      "image/png": "[encoded data removed]",
      "text/plain": [
       "<Figure size 1600x800 with 1 Axes>"
      ]
     },
     "metadata": {},
     "output_type": "display_data"
    }
   ],
   "source": [
    "plt.figure(figsize=(16, 8))\n",
    "sns.barplot(x='listen_count', y='count', palette='Set3', data=listen_counts_temp)\n",
    "plt.gca().spines['top'].set_visible(False)\n",
    "plt.gca().spines['right'].set_visible(False)\n",
    "plt.show();"
   ]
  },
  {
   "cell_type": "code",
   "execution_count": 42,
   "id": "a6336d66-f5a4-4be0-b021-c39501b502f2",
   "metadata": {},
   "outputs": [],
   "source": [
    "song_user = df_songs.groupby('user_id')['song_id'].count()"
   ]
  },
  {
   "cell_type": "code",
   "execution_count": 43,
   "id": "64201ce0-45e4-4dc5-90ed-a9add956a736",
   "metadata": {},
   "outputs": [
    {
     "name": "stderr",
     "output_type": "stream",
     "text": [
      "C:\\Users\\yamun\\AppData\\Local\\Temp\\ipykernel_12844\\2530348831.py:2: UserWarning: \n",
      "\n",
      "`distplot` is a deprecated function and will be removed in seaborn v0.14.0.\n",
      "\n",
      "Please adapt your code to use either `displot` (a figure-level function with\n",
      "similar flexibility) or `histplot` (an axes-level function for histograms).\n",
      "\n",
      "For a guide to updating your code to use the new functions, please see\n",
      "https://gist.github.com/mwaskom/de44147ed2974457ad6372750bbe5751\n",
      "\n",
      "  sns.distplot(song_user.values, color='orange')\n"
     ]
    },
    {
     "data": {
      "image/png": "[encoded data removed]",
      "text/plain": [
       "<Figure size 1600x800 with 1 Axes>"
      ]
     },
     "metadata": {},
     "output_type": "display_data"
    }
   ],
   "source": [
    "plt.figure(figsize=(16, 8))\n",
    "sns.distplot(song_user.values, color='orange')\n",
    "plt.gca().spines['top'].set_visible(False)\n",
    "plt.gca().spines['right'].set_visible(False)\n",
    "plt.show();"
   ]
  },
  {
   "cell_type": "code",
   "execution_count": 44,
   "id": "bef5473a-1783-43dc-821f-54355ea668ac",
   "metadata": {},
   "outputs": [
    {
     "name": "stdout",
     "output_type": "stream",
     "text": [
      "A user listens to an average of 9.12 songs\n"
     ]
    }
   ],
   "source": [
    "print(f\"A user listens to an average of {np.mean(song_user)} songs\")"
   ]
  },
  {
   "cell_type": "code",
   "execution_count": 45,
   "id": "ab4c5fe7-f902-4df0-a760-d5abc61cfa91",
   "metadata": {},
   "outputs": [
    {
     "name": "stdout",
     "output_type": "stream",
     "text": [
      "A user listens to an average of 9.0 songs, with minimum 5 and maximum 14 songs\n"
     ]
    }
   ],
   "source": [
    "print(f\"A user listens to an average of {np.median(song_user)} songs, with minimum {np.min(song_user)} and maximum {np.max(song_user)} songs\")"
   ]
  },
  {
   "cell_type": "code",
   "execution_count": 46,
   "id": "da1eac08-06c5-4ede-8fbf-340cf0e25911",
   "metadata": {},
   "outputs": [],
   "source": [
    "# Get how many values should it be if all songs have been listen by all users\n",
    "values_matrix = unique_users * unique_songs"
   ]
  },
  {
   "cell_type": "code",
   "execution_count": 47,
   "id": "2d3114b4-868b-43c7-907d-5fdacb1a5942",
   "metadata": {},
   "outputs": [],
   "source": [
    "# Substract the total values with the actural shape of the DataFrame songs\n",
    "zero_values_matrix = values_matrix - df_songs.shape[0]"
   ]
  },
  {
   "cell_type": "code",
   "execution_count": 48,
   "id": "4657073a-a983-4510-aeee-39a8de544b38",
   "metadata": {},
   "outputs": [
    {
     "name": "stdout",
     "output_type": "stream",
     "text": [
      "The matrix of users x songs has 4088 values that are zero\n"
     ]
    }
   ],
   "source": [
    "print(f\"The matrix of users x songs has {zero_values_matrix} values that are zero\")"
   ]
  },
  {
   "cell_type": "code",
   "execution_count": 49,
   "id": "635e0222-d2be-4cbd-a7f7-6b186aef9d2d",
   "metadata": {},
   "outputs": [],
   "source": [
    "# Get users which have listen to at least 16 songs\n",
    "song_ten_id = song_user[song_user > 16].index.to_list()"
   ]
  },
  {
   "cell_type": "code",
   "execution_count": 50,
   "id": "c9af44d5-10ed-44aa-b622-22541a5bca76",
   "metadata": {},
   "outputs": [],
   "source": [
    "# Filtered the dataset to keep only those users with more than 16 listened\n",
    "df_song_id_more_ten = df_songs[df_songs['user_id'].isin(song_ten_id)].reset_index(drop=True)"
   ]
  },
  {
   "cell_type": "code",
   "execution_count": 51,
   "id": "bec2d1bf-ff0c-4132-b27d-b1beeb8879c3",
   "metadata": {},
   "outputs": [],
   "source": [
    "# convert the dataframe into a pivot table\n",
    "df_songs_features = df_song_id_more_ten.pivot(index='song_id', columns='user_id', values='listen_count').fillna(0)\n",
    "\n",
    "# obtain a sparse matrix\n",
    "mat_songs_features = csr_matrix(df_songs_features.values)"
   ]
  },
  {
   "cell_type": "code",
   "execution_count": 52,
   "id": "0e0b5433-50df-49f7-95b1-52b219665d42",
   "metadata": {},
   "outputs": [
    {
     "data": {
      "text/html": [
       "<div>\n",
       "<style scoped>\n",
       "    .dataframe tbody tr th:only-of-type {\n",
       "        vertical-align: middle;\n",
       "    }\n",
       "\n",
       "    .dataframe tbody tr th {\n",
       "        vertical-align: top;\n",
       "    }\n",
       "\n",
       "    .dataframe thead th {\n",
       "        text-align: right;\n",
       "    }\n",
       "</style>\n",
       "<table border=\"1\" class=\"dataframe\">\n",
       "  <thead>\n",
       "    <tr style=\"text-align: right;\">\n",
       "      <th>user_id</th>\n",
       "    </tr>\n",
       "    <tr>\n",
       "      <th>song_id</th>\n",
       "    </tr>\n",
       "  </thead>\n",
       "  <tbody>\n",
       "  </tbody>\n",
       "</table>\n",
       "</div>"
      ],
      "text/plain": [
       "Empty DataFrame\n",
       "Columns: []\n",
       "Index: []"
      ]
     },
     "execution_count": 52,
     "metadata": {},
     "output_type": "execute_result"
    }
   ],
   "source": [
    "df_songs_features.head()"
   ]
  },
  {
   "cell_type": "code",
   "execution_count": 53,
   "id": "f00b682b-5ce0-4aa3-9590-6c6e1ea5b330",
   "metadata": {},
   "outputs": [],
   "source": [
    "df_unique_songs = df_songs.drop_duplicates(subset=['song_id']).reset_index(drop=True)[['song_id', 'title']]"
   ]
  },
  {
   "cell_type": "code",
   "execution_count": 54,
   "id": "6b557849-4f64-4394-a4ee-558534f771c7",
   "metadata": {},
   "outputs": [],
   "source": [
    "decode_id_song = {\n",
    "    song: i for i, song in \n",
    "    enumerate(list(df_unique_songs.set_index('song_id').loc[df_songs_features.index].title))\n",
    "}"
   ]
  },
  {
   "cell_type": "code",
   "execution_count": 56,
   "id": "9193d031-b234-4f49-ba58-21af997d4771",
   "metadata": {},
   "outputs": [
    {
     "name": "stdout",
     "output_type": "stream",
     "text": [
      "(912, 5)\n",
      "  user_id  song_id  listen_count     title artist_name\n",
      "0  user_1  song_23            17  Title 23   Artist 13\n",
      "1  user_1  song_26             4  Title 26    Artist 3\n",
      "2  user_1  song_46            16  Title 46   Artist 12\n",
      "3  user_1  song_30             3  Title 30    Artist 3\n",
      "4  user_1  song_43            20  Title 43   Artist 13\n"
     ]
    }
   ],
   "source": [
    "print(songs.shape)\n",
    "print(songs.head())\n"
   ]
  },
  {
   "cell_type": "code",
   "execution_count": 57,
   "id": "c476d476-0608-4a66-a329-fb23a14f236c",
   "metadata": {},
   "outputs": [],
   "source": [
    "from scipy.sparse import csr_matrix\n",
    "\n",
    "# Create a matrix with songs as rows and users as columns\n",
    "song_user_pivot = songs.pivot_table(index='title', columns='user_id', values='listen_count', fill_value=0)\n",
    "\n",
    "# Convert to sparse matrix\n",
    "mat_songs_features = csr_matrix(song_user_pivot.values)\n",
    "\n",
    "# Create decode_id_song: song title -> index in matrix\n",
    "decode_id_song = {title: i for i, title in enumerate(song_user_pivot.index)}\n"
   ]
  },
  {
   "cell_type": "code",
   "execution_count": 58,
   "id": "3bda4474-1464-4257-b2be-939584c1d732",
   "metadata": {},
   "outputs": [],
   "source": [
    "model = Recommender(metric='cosine', algorithm='brute', k=20, data=mat_songs_features, decode_id_song=decode_id_song)\n"
   ]
  },
  {
   "cell_type": "code",
   "execution_count": 59,
   "id": "ff0d1150-3d17-4a0d-a284-e040832f2cd3",
   "metadata": {},
   "outputs": [
    {
     "name": "stdout",
     "output_type": "stream",
     "text": [
      "Starting the recommendation process for Title 23 ...\n",
      "... Done\n",
      "\n",
      "Top recommendations for 'Title 23':\n",
      "1. Title 44\n",
      "2. Title 41\n",
      "3. Title 32\n",
      "4. Title 43\n",
      "5. Title 39\n"
     ]
    }
   ],
   "source": [
    "song = \"Title 23\"  # Use a valid song title\n",
    "recommendations = model.make_recommendation(new_song=song, n_recommendations=5)\n",
    "\n",
    "print(f\"\\nTop recommendations for '{song}':\")\n",
    "for idx, title in enumerate(recommendations, start=1):\n",
    "    print(f\"{idx}. {title}\")\n"
   ]
  },
  {
   "cell_type": "code",
   "execution_count": null,
   "id": "45d40687-329b-4b7a-9261-dce0c21f3fd8",
   "metadata": {},
   "outputs": [],
   "source": []
  }
 ],
 "metadata": {
  "kernelspec": {
   "display_name": "Python 3 (ipykernel)",
   "language": "python",
   "name": "python3"
  },
  "language_info": {
   "codemirror_mode": {
    "name": "ipython",
    "version": 3
   },
   "file_extension": ".py",
   "mimetype": "text/x-python",
   "name": "python",
   "nbconvert_exporter": "python",
   "pygments_lexer": "ipython3",
   "version": "3.11.3"
  }
 },
 "nbformat": 4,
 "nbformat_minor": 5
}
