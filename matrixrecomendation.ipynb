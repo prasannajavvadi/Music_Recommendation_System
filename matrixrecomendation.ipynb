{
 "cells": [
  {
   "cell_type": "code",
   "execution_count": 1,
   "id": "2a5d3f53-2580-4d7b-9c07-89dd532ea042",
   "metadata": {},
   "outputs": [],
   "source": [
    "import numpy as np\n",
    "import pandas as pd\n",
    "import matplotlib.pyplot as plt\n",
    "import seaborn as sns"
   ]
  },
  {
   "cell_type": "code",
   "execution_count": 2,
   "id": "859e4cf8-73be-4a59-a375-45aa84c339ef",
   "metadata": {},
   "outputs": [],
   "source": [
    "from scipy.sparse import csr_matrix"
   ]
  },
  {
   "cell_type": "code",
   "execution_count": 4,
   "id": "30d1040d-32ad-432e-8d40-d207329e2628",
   "metadata": {},
   "outputs": [
    {
     "name": "stdout",
     "output_type": "stream",
     "text": [
      "Collecting scikit-surprise\n",
      "  Downloading scikit_surprise-1.1.4.tar.gz (154 kB)\n",
      "                                              0.0/154.4 kB ? eta -:--:--\n",
      "     -------                               30.7/154.4 kB 660.6 kB/s eta 0:00:01\n",
      "     -------                               30.7/154.4 kB 660.6 kB/s eta 0:00:01\n",
      "     ---------                             41.0/154.4 kB 281.8 kB/s eta 0:00:01\n",
      "     --------------                        61.4/154.4 kB 328.2 kB/s eta 0:00:01\n",
      "     --------------                        61.4/154.4 kB 328.2 kB/s eta 0:00:01\n",
      "     -------------------                   81.9/154.4 kB 286.7 kB/s eta 0:00:01\n",
      "     ----------------------                92.2/154.4 kB 275.8 kB/s eta 0:00:01\n",
      "     ----------------------                92.2/154.4 kB 275.8 kB/s eta 0:00:01\n",
      "     ---------------------------------    143.4/154.4 kB 355.0 kB/s eta 0:00:01\n",
      "     ------------------------------------ 154.4/154.4 kB 355.2 kB/s eta 0:00:00\n",
      "  Installing build dependencies: started\n",
      "  Installing build dependencies: still running...\n",
      "  Installing build dependencies: still running...\n",
      "  Installing build dependencies: finished with status 'done'\n",
      "  Getting requirements to build wheel: started\n",
      "  Getting requirements to build wheel: finished with status 'done'\n",
      "  Preparing metadata (pyproject.toml): started\n",
      "  Preparing metadata (pyproject.toml): finished with status 'done'\n",
      "Requirement already satisfied: joblib>=1.2.0 in c:\\users\\yamun\\anaconda3\\lib\\site-packages (from scikit-surprise) (1.5.1)\n",
      "Requirement already satisfied: numpy>=1.19.5 in c:\\users\\yamun\\anaconda3\\lib\\site-packages (from scikit-surprise) (1.26.4)\n",
      "Requirement already satisfied: scipy>=1.6.0 in c:\\users\\yamun\\anaconda3\\lib\\site-packages (from scikit-surprise) (1.15.3)\n",
      "Building wheels for collected packages: scikit-surprise\n",
      "  Building wheel for scikit-surprise (pyproject.toml): started\n",
      "  Building wheel for scikit-surprise (pyproject.toml): finished with status 'done'\n",
      "  Created wheel for scikit-surprise: filename=scikit_surprise-1.1.4-cp311-cp311-win_amd64.whl size=1291640 sha256=c03599913591f255de1a9bd4218dc3fbc6303c5e5270fa6b5537d63318d9b3fd\n",
      "  Stored in directory: c:\\users\\yamun\\appdata\\local\\pip\\cache\\wheels\\2a\\8f\\6e\\7e2899163e2d85d8266daab4aa1cdabec7a6c56f83c015b5af\n",
      "Successfully built scikit-surprise\n",
      "Installing collected packages: scikit-surprise\n",
      "Successfully installed scikit-surprise-1.1.4\n"
     ]
    }
   ],
   "source": [
    "!pip install scikit-surprise\n"
   ]
  },
  {
   "cell_type": "code",
   "execution_count": 5,
   "id": "c229939d-041d-4ed6-ac88-89c70c3a1c83",
   "metadata": {},
   "outputs": [],
   "source": [
    "from surprise import SVD\n",
    "from surprise import Dataset, Reader\n",
    "from surprise import accuracy\n",
    "from surprise.model_selection import train_test_split\n",
    "from surprise.model_selection import GridSearchCV\n",
    "from surprise.model_selection import cross_validate"
   ]
  },
  {
   "cell_type": "code",
   "execution_count": 8,
   "id": "ab1e132a-6fda-40ea-898a-d36794726a4c",
   "metadata": {},
   "outputs": [],
   "source": [
    "df_songs = pd.read_csv(r'C:\\Users\\yamun\\Downloads\\music_recommender-master\\music_recommender-master\\collaborative_recommender_system\\songs.csv')"
   ]
  },
  {
   "cell_type": "code",
   "execution_count": 9,
   "id": "2bdb4353-843a-4651-9f15-a631440716c1",
   "metadata": {},
   "outputs": [
    {
     "data": {
      "text/html": [
       "<div>\n",
       "<style scoped>\n",
       "    .dataframe tbody tr th:only-of-type {\n",
       "        vertical-align: middle;\n",
       "    }\n",
       "\n",
       "    .dataframe tbody tr th {\n",
       "        vertical-align: top;\n",
       "    }\n",
       "\n",
       "    .dataframe thead th {\n",
       "        text-align: right;\n",
       "    }\n",
       "</style>\n",
       "<table border=\"1\" class=\"dataframe\">\n",
       "  <thead>\n",
       "    <tr style=\"text-align: right;\">\n",
       "      <th></th>\n",
       "      <th>user_id</th>\n",
       "      <th>song_id</th>\n",
       "      <th>listen_count</th>\n",
       "      <th>title</th>\n",
       "      <th>artist_name</th>\n",
       "    </tr>\n",
       "  </thead>\n",
       "  <tbody>\n",
       "    <tr>\n",
       "      <th>0</th>\n",
       "      <td>user_1</td>\n",
       "      <td>song_23</td>\n",
       "      <td>17</td>\n",
       "      <td>Title 23</td>\n",
       "      <td>Artist 13</td>\n",
       "    </tr>\n",
       "    <tr>\n",
       "      <th>1</th>\n",
       "      <td>user_1</td>\n",
       "      <td>song_26</td>\n",
       "      <td>4</td>\n",
       "      <td>Title 26</td>\n",
       "      <td>Artist 3</td>\n",
       "    </tr>\n",
       "    <tr>\n",
       "      <th>2</th>\n",
       "      <td>user_1</td>\n",
       "      <td>song_46</td>\n",
       "      <td>16</td>\n",
       "      <td>Title 46</td>\n",
       "      <td>Artist 12</td>\n",
       "    </tr>\n",
       "    <tr>\n",
       "      <th>3</th>\n",
       "      <td>user_1</td>\n",
       "      <td>song_30</td>\n",
       "      <td>3</td>\n",
       "      <td>Title 30</td>\n",
       "      <td>Artist 3</td>\n",
       "    </tr>\n",
       "    <tr>\n",
       "      <th>4</th>\n",
       "      <td>user_1</td>\n",
       "      <td>song_43</td>\n",
       "      <td>20</td>\n",
       "      <td>Title 43</td>\n",
       "      <td>Artist 13</td>\n",
       "    </tr>\n",
       "  </tbody>\n",
       "</table>\n",
       "</div>"
      ],
      "text/plain": [
       "  user_id  song_id  listen_count     title artist_name\n",
       "0  user_1  song_23            17  Title 23   Artist 13\n",
       "1  user_1  song_26             4  Title 26    Artist 3\n",
       "2  user_1  song_46            16  Title 46   Artist 12\n",
       "3  user_1  song_30             3  Title 30    Artist 3\n",
       "4  user_1  song_43            20  Title 43   Artist 13"
      ]
     },
     "execution_count": 9,
     "metadata": {},
     "output_type": "execute_result"
    }
   ],
   "source": [
    "df_songs.head()"
   ]
  },
  {
   "cell_type": "code",
   "execution_count": 10,
   "id": "d0d48332-046a-47bd-b26c-623510293c38",
   "metadata": {},
   "outputs": [],
   "source": [
    "song_user = df_songs.groupby('song_id')['user_id'].count()"
   ]
  },
  {
   "cell_type": "code",
   "execution_count": 11,
   "id": "d8813ec7-67c6-4b4b-bfa1-2d2cb0d30901",
   "metadata": {},
   "outputs": [
    {
     "name": "stderr",
     "output_type": "stream",
     "text": [
      "C:\\Users\\yamun\\AppData\\Local\\Temp\\ipykernel_18608\\3754302880.py:2: UserWarning: \n",
      "\n",
      "`distplot` is a deprecated function and will be removed in seaborn v0.14.0.\n",
      "\n",
      "Please adapt your code to use either `displot` (a figure-level function with\n",
      "similar flexibility) or `histplot` (an axes-level function for histograms).\n",
      "\n",
      "For a guide to updating your code to use the new functions, please see\n",
      "https://gist.github.com/mwaskom/de44147ed2974457ad6372750bbe5751\n",
      "\n",
      "  sns.distplot(song_user.values, color='blue')\n"
     ]
    },
    {
     "data": {
      "image/png": "[encoded data removed]",
      "text/plain": [
       "<Figure size 1600x800 with 1 Axes>"
      ]
     },
     "metadata": {},
     "output_type": "display_data"
    }
   ],
   "source": [
    "plt.figure(figsize=(16, 8))\n",
    "sns.distplot(song_user.values, color='blue')\n",
    "plt.gca().spines['top'].set_visible(False)\n",
    "plt.gca().spines['right'].set_visible(False)\n",
    "plt.show();"
   ]
  },
  {
   "cell_type": "code",
   "execution_count": 12,
   "id": "3ea5417e-e488-43b7-ae51-6578bad9149d",
   "metadata": {},
   "outputs": [
    {
     "name": "stdout",
     "output_type": "stream",
     "text": [
      "A song is listened for an average of 18.24 users, with minimum 9 and maximum 27 users\n"
     ]
    }
   ],
   "source": [
    "print(f\"A song is listened for an average of {np.mean(song_user)} users, with minimum {np.min(song_user)} and maximum {np.max(song_user)} users\")"
   ]
  },
  {
   "cell_type": "code",
   "execution_count": 13,
   "id": "7988c08b-05b0-47ea-84db-af298d1bd0c9",
   "metadata": {},
   "outputs": [],
   "source": [
    "# Get how many songs each user have listened to\n",
    "user_counts = df_songs.groupby('user_id')['song_id'].count()\n",
    "\n",
    "# Filter users which have listen to at least 16 songs\n",
    "user_ten_id = user_counts[user_counts > 16].index.to_list()"
   ]
  },
  {
   "cell_type": "code",
   "execution_count": 14,
   "id": "ddcb4b6a-691d-4908-b9b7-03f7324c2300",
   "metadata": {},
   "outputs": [],
   "source": [
    "# Get how many user have listened to each song\n",
    "song_counts = df_songs.groupby('song_id')['user_id'].count()\n",
    "\n",
    "# Get songs which have been listened at least 4 times\n",
    "song_ten_id = song_counts[song_counts > 200].index.to_list()"
   ]
  },
  {
   "cell_type": "code",
   "execution_count": 15,
   "id": "8957dbeb-3f97-49cc-9d67-c9e8d6effb14",
   "metadata": {},
   "outputs": [],
   "source": [
    "# Filtered the dataset to keep only those users with more than 16 listened\n",
    "df_song_reduced = df_songs[(df_songs['user_id'].isin(user_ten_id)) & (df_songs['song_id'].isin(song_ten_id))].reset_index(drop=True)"
   ]
  },
  {
   "cell_type": "code",
   "execution_count": 16,
   "id": "da5d0ef1-061d-4218-b371-db3de0b7486c",
   "metadata": {},
   "outputs": [
    {
     "data": {
      "text/plain": [
       "(0, 5)"
      ]
     },
     "execution_count": 16,
     "metadata": {},
     "output_type": "execute_result"
    }
   ],
   "source": [
    "df_song_reduced.shape"
   ]
  },
  {
   "cell_type": "code",
   "execution_count": 17,
   "id": "5b3685bd-778b-4dab-b800-2d30e2b12ef8",
   "metadata": {},
   "outputs": [],
   "source": [
    "bins = [0, 1, 2, 3, 4, 5, 6, 7, 8, 9, 2214]"
   ]
  },
  {
   "cell_type": "code",
   "execution_count": 18,
   "id": "b97332cb-5b4a-4f94-973d-2498ec7a8a6a",
   "metadata": {},
   "outputs": [],
   "source": [
    "df_song_reduced['listen_count'] = pd.cut(df_song_reduced['listen_count'], bins=bins, labels=[1, 2, 3, 4, 5, 6, 7, 8, 9, 10])"
   ]
  },
  {
   "cell_type": "code",
   "execution_count": 21,
   "id": "5c5d7e82-035d-48b6-b822-0c280c8c70c8",
   "metadata": {},
   "outputs": [],
   "source": [
    "listen_counts = pd.DataFrame(\n",
    "    df_song_reduced.groupby('listen_count', observed=False).size(),\n",
    "    columns=['count']\n",
    ").reset_index(drop=False)\n"
   ]
  },
  {
   "cell_type": "code",
   "execution_count": 23,
   "id": "eede9139-907a-40ac-a9f1-a1189deccb90",
   "metadata": {},
   "outputs": [
    {
     "data": {
      "text/plain": [
       "<Axes: xlabel='listen_count', ylabel='count'>"
      ]
     },
     "execution_count": 23,
     "metadata": {},
     "output_type": "execute_result"
    },
    {
     "data": {
      "image/png": "[encoded data removed]",
      "text/plain": [
       "<Figure size 640x480 with 1 Axes>"
      ]
     },
     "metadata": {},
     "output_type": "display_data"
    }
   ],
   "source": [
    "sns.barplot(x='listen_count', y='count', data=listen_counts, hue='listen_count', palette='Set3', legend=False)\n"
   ]
  },
  {
   "cell_type": "code",
   "execution_count": 24,
   "id": "cd610a86-a894-4ca5-8e31-4ea74921cfa5",
   "metadata": {},
   "outputs": [
    {
     "name": "stdout",
     "output_type": "stream",
     "text": [
      "  listen_count  count\n",
      "0            1      0\n",
      "1            2      0\n",
      "2            3      0\n",
      "3            4      0\n",
      "4            5      0\n"
     ]
    }
   ],
   "source": [
    "print(listen_counts.head())\n"
   ]
  },
  {
   "cell_type": "code",
   "execution_count": 25,
   "id": "5db6dd8a-fb67-4636-8d0f-1e7cf7d54f8f",
   "metadata": {},
   "outputs": [],
   "source": [
    "reader = Reader(rating_scale=(1, 10))\n",
    "data = Dataset.load_from_df(df_song_reduced[['user_id', 'song_id', 'listen_count']], reader)"
   ]
  },
  {
   "cell_type": "code",
   "execution_count": 29,
   "id": "2a92cec6-0adf-42d0-a48e-f87d0d8fd16e",
   "metadata": {},
   "outputs": [
    {
     "name": "stdout",
     "output_type": "stream",
     "text": [
      "(912, 3)\n",
      "  user_id  song_id  listen_count\n",
      "0  user_1  song_23            17\n",
      "1  user_1  song_26             4\n",
      "2  user_1  song_46            16\n",
      "3  user_1  song_30             3\n",
      "4  user_1  song_43            20\n"
     ]
    }
   ],
   "source": [
    "from surprise import Dataset, Reader\n",
    "import pandas as pd\n",
    "\n",
    "# Example: your own DataFrame (replace this with your actual one)\n",
    "# It must have 3 columns: user_id, song_id, listen_count\n",
    "df = df_songs[['user_id', 'song_id', 'listen_count']]\n",
    "\n",
    "# Check if there’s any data\n",
    "print(df.shape)\n",
    "print(df.head())\n",
    "\n",
    "# Define the format for Surprise\n",
    "reader = Reader(rating_scale=(df['listen_count'].min(), df['listen_count'].max()))\n",
    "\n",
    "# Load dataset\n",
    "data = Dataset.load_from_df(df, reader)\n",
    "\n",
    "# Now split it\n",
    "from surprise.model_selection import train_test_split\n",
    "trainset, testset = train_test_split(data, test_size=0.25)\n"
   ]
  },
  {
   "cell_type": "code",
   "execution_count": 31,
   "id": "240837e4-9bd5-4fc9-9575-d28ff55a1612",
   "metadata": {},
   "outputs": [
    {
     "name": "stdout",
     "output_type": "stream",
     "text": [
      "(912, 5)\n",
      "(912, 3)\n"
     ]
    }
   ],
   "source": [
    "\n",
    "print(df_songs.shape)\n",
    "print(df_songs[['user_id', 'song_id', 'listen_count']].dropna().shape)\n"
   ]
  },
  {
   "cell_type": "code",
   "execution_count": 33,
   "id": "10f565dd-c2c9-49c0-b33f-c5dd3562c86b",
   "metadata": {},
   "outputs": [
    {
     "name": "stdout",
     "output_type": "stream",
     "text": [
      "Trainset has 684 ratings\n",
      "Testset has 228 ratings\n"
     ]
    }
   ],
   "source": [
    "from surprise import Dataset, Reader\n",
    "from surprise.model_selection import train_test_split\n",
    "\n",
    "# Assuming 'df' is your user-song-rating dataframe:\n",
    "df = df_songs[['user_id', 'song_id', 'listen_count']]\n",
    "\n",
    "# Define the rating scale based on your data\n",
    "reader = Reader(rating_scale=(df['listen_count'].min(), df['listen_count'].max()))\n",
    "\n",
    "# Load data into Surprise format\n",
    "data = Dataset.load_from_df(df, reader)\n",
    "\n",
    "# Now split into train and test sets\n",
    "trainset, testset = train_test_split(data, test_size=0.25)\n",
    "\n",
    "print(f\"Trainset has {trainset.n_ratings} ratings\")\n",
    "print(f\"Testset has {len(testset)} ratings\")\n"
   ]
  },
  {
   "cell_type": "code",
   "execution_count": 34,
   "id": "cbc1d9c3-36f0-49a6-aaab-6109b0c8f0fc",
   "metadata": {},
   "outputs": [],
   "source": [
    "param_grid = {'n_factors': [160], \n",
    "              'n_epochs': [100], \n",
    "              'lr_all': [0.001, 0.005],\n",
    "              'reg_all': [0.08, 0.1]}"
   ]
  },
  {
   "cell_type": "code",
   "execution_count": 35,
   "id": "99c74c00-1a0b-4d7c-899e-022710ba628a",
   "metadata": {},
   "outputs": [],
   "source": [
    "grid_search_svd = GridSearchCV(SVD, param_grid, measures=['rmse'], cv=3, joblib_verbose=4, n_jobs=-2)"
   ]
  },
  {
   "cell_type": "code",
   "execution_count": 36,
   "id": "ec941b94-92c2-451a-a753-28e285431a7e",
   "metadata": {},
   "outputs": [
    {
     "name": "stderr",
     "output_type": "stream",
     "text": [
      "[Parallel(n_jobs=-2)]: Using backend LokyBackend with 11 concurrent workers.\n"
     ]
    },
    {
     "name": "stdout",
     "output_type": "stream",
     "text": [
      "5.91715202483165\n",
      "{'n_factors': 160, 'n_epochs': 100, 'lr_all': 0.001, 'reg_all': 0.1}\n"
     ]
    },
    {
     "name": "stderr",
     "output_type": "stream",
     "text": [
      "[Parallel(n_jobs=-2)]: Done   3 out of  12 | elapsed:    1.1s remaining:    3.6s\n",
      "[Parallel(n_jobs=-2)]: Done   7 out of  12 | elapsed:    1.1s remaining:    0.8s\n",
      "[Parallel(n_jobs=-2)]: Done  12 out of  12 | elapsed:    1.2s finished\n"
     ]
    }
   ],
   "source": [
    "# find the best parameters for the model\n",
    "grid_search_svd.fit(data)\n",
    "find_algo = grid_search_svd.best_estimator['rmse']\n",
    "print(grid_search_svd.best_score['rmse'])\n",
    "print(grid_search_svd.best_params['rmse'])"
   ]
  },
  {
   "cell_type": "code",
   "execution_count": 37,
   "id": "809a0801-6c8b-4faa-81fd-ca0034e7308c",
   "metadata": {},
   "outputs": [
    {
     "name": "stdout",
     "output_type": "stream",
     "text": [
      "Evaluating RMSE of algorithm SVD on 5 split(s).\n",
      "\n",
      "                  Fold 1  Fold 2  Fold 3  Fold 4  Fold 5  Mean    Std     \n",
      "RMSE (testset)    5.9211  5.7784  5.6824  6.1575  6.0835  5.9246  0.1786  \n",
      "Fit time          0.01    0.07    0.06    0.05    0.06    0.05    0.02    \n",
      "Test time         0.00    0.00    0.00    0.01    0.00    0.00    0.00    \n"
     ]
    },
    {
     "data": {
      "text/plain": [
       "{'test_rmse': array([5.9211291 , 5.7784247 , 5.68236176, 6.15745084, 6.08346373]),\n",
       " 'fit_time': (0.014991044998168945,\n",
       "  0.07218170166015625,\n",
       "  0.06263422966003418,\n",
       "  0.04694676399230957,\n",
       "  0.05898714065551758),\n",
       " 'test_time': (0.0, 0.0, 0.0021924972534179688, 0.008261919021606445, 0.0)}"
      ]
     },
     "execution_count": 37,
     "metadata": {},
     "output_type": "execute_result"
    }
   ],
   "source": [
    "# Perform the cross validation\n",
    "cross_validate(find_algo, data, measures=['RMSE'], cv=5, verbose=True)"
   ]
  },
  {
   "cell_type": "code",
   "execution_count": 38,
   "id": "ba98f906-add2-4f09-8294-f8d449a36552",
   "metadata": {},
   "outputs": [
    {
     "name": "stdout",
     "output_type": "stream",
     "text": [
      "RMSE: 6.0477\n",
      "The RMSE is 6.047653804216337\n"
     ]
    }
   ],
   "source": [
    "final_algorithm = SVD(n_factors=160, n_epochs=100, lr_all=0.005, reg_all=0.1)\n",
    "final_algorithm.fit(trainset)\n",
    "test_predictions = final_algorithm.test(testset)\n",
    "print(f\"The RMSE is {accuracy.rmse(test_predictions, verbose=True)}\")"
   ]
  },
  {
   "cell_type": "code",
   "execution_count": null,
   "id": "69b14743-87ba-4a9f-8eea-5bbacba06055",
   "metadata": {},
   "outputs": [],
   "source": []
  }
 ],
 "metadata": {
  "kernelspec": {
   "display_name": "Python 3 (ipykernel)",
   "language": "python",
   "name": "python3"
  },
  "language_info": {
   "codemirror_mode": {
    "name": "ipython",
    "version": 3
   },
   "file_extension": ".py",
   "mimetype": "text/x-python",
   "name": "python",
   "nbconvert_exporter": "python",
   "pygments_lexer": "ipython3",
   "version": "3.11.3"
  }
 },
 "nbformat": 4,
 "nbformat_minor": 5
}
